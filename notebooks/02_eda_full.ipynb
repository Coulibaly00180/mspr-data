{
  "cells": [
    {
      "cell_type": "markdown",
      "metadata": {},
      "source": [
        "# EDA complète — Nantes Métropole (2012–2022)\n",
        "Ce notebook réalise les contrôles de qualité, l'exploration des données et quelques visualisations clés sur `data/processed_csv/master_ml.csv`.\n",
        "> Exécuter après l'ETL : `docker compose run --rm app src/etl/build_master.py`"
      ]
    },
    {
      "cell_type": "code",
      "metadata": {},
      "source": [
        "import pandas as pd\n",
        "import numpy as np\n",
        "import matplotlib.pyplot as plt\n",
        "from collections import Counter\n",
        "from pathlib import Path\n",
        "DATA = Path('data/processed_csv/master_ml.csv')\n",
        "df = pd.read_csv(DATA)\n",
        "print(df.shape)\n",
        "df.head()"
      ],
      "execution_count": null,
      "outputs": []
    },
    {
      "cell_type": "markdown",
      "metadata": {},
      "source": [
        "## 1) Contrôles qualité (QA)"
      ]
    },
    {
      "cell_type": "code",
      "metadata": {},
      "source": [
        "# unicité de la clé (si présentes)\n",
        "key_cols = [c for c in ['code_commune_insee','type_scrutin','annee','tour'] if c in df.columns]\n",
        "if key_cols:\n",
        "    dup = df.duplicated(subset=key_cols).sum()\n",
        "    print('Doublons (clé):', dup)\n",
        "else:\n",
        "    print('Colonnes clés manquantes, QA limité.')\n",
        "\n",
        "# complétude colonnes clés\n",
        "for c in key_cols:\n",
        "    miss = df[c].isna().mean()*100\n",
        "    print(f'Manquants {c}: {miss:.1f}%')\n",
        "\n",
        "# cohérence pourcentages si colonnes présentes\n",
        "for pct_col in ['turnout_pct','blancs_pct','nuls_pct']:\n",
        "    if pct_col in df.columns:\n",
        "        print(pct_col, 'min/max:', df[pct_col].min(), df[pct_col].max())\n",
        "\n",
        "# somme des voix_% (si colonnes voix_pct_*)\n",
        "voix_pct_cols = [c for c in df.columns if c.startswith('voix_pct_')]\n",
        "if voix_pct_cols:\n",
        "    s = df[voix_pct_cols].sum(axis=1)\n",
        "    print('Somme moyenne voix_pct_*:', s.mean(), 'écart-type:', s.std())"
      ],
      "execution_count": null,
      "outputs": []
    },
    {
      "cell_type": "markdown",
      "metadata": {},
      "source": [
        "## 2) Vue d'ensemble"
      ]
    },
    {
      "cell_type": "code",
      "metadata": {},
      "source": [
        "print('Années ->', sorted(df['annee'].dropna().unique().tolist()) )\n",
        "if 'type_scrutin' in df.columns:\n",
        "    print('Scrutins ->', df['type_scrutin'].value_counts().to_dict())\n",
        "if 'parti_en_tete' in df.columns:\n",
        "    print('Répartition parti_en_tete ->', df['parti_en_tete'].value_counts(normalize=True).round(3).to_dict())"
      ],
      "execution_count": null,
      "outputs": []
    },
    {
      "cell_type": "markdown",
      "metadata": {},
      "source": [
        "## 3) Tendances de participation (turnout / blancs / nuls)"
      ]
    },
    {
      "cell_type": "code",
      "metadata": {},
      "source": [
        "group_cols = [c for c in ['annee','type_scrutin'] if c in df.columns]\n",
        "agg = {}\n",
        "for c in ['turnout_pct','blancs_pct','nuls_pct']:\n",
        "    if c in df.columns:\n",
        "        agg[c] = 'mean'\n",
        "if group_cols and agg:\n",
        "    trend = df.groupby(group_cols).agg(agg).reset_index()\n",
        "    display(trend.head())\n",
        "    # Plot (un graphe par métrique)\n",
        "    if 'turnout_pct' in trend.columns:\n",
        "        plt.figure()\n",
        "        for k, sub in trend.groupby('type_scrutin') if 'type_scrutin' in trend.columns else [(None, trend)]:\n",
        "            plt.plot(sub['annee'], sub['turnout_pct'], marker='o', label=str(k) if k is not None else None)\n",
        "        plt.title('Taux de participation (moyenne par scrutin et année)')\n",
        "        plt.xlabel('Année'); plt.ylabel('turnout_pct')\n",
        "        if 'type_scrutin' in trend.columns: plt.legend()\n",
        "        plt.show()\n",
        "    if 'blancs_pct' in trend.columns:\n",
        "        plt.figure()\n",
        "        for k, sub in trend.groupby('type_scrutin') if 'type_scrutin' in trend.columns else [(None, trend)]:\n",
        "            plt.plot(sub['annee'], sub['blancs_pct'], marker='o', label=str(k) if k is not None else None)\n",
        "        plt.title('Blancs (moyenne)'); plt.xlabel('Année'); plt.ylabel('blancs_pct')\n",
        "        if 'type_scrutin' in trend.columns: plt.legend()\n",
        "        plt.show()\n",
        "    if 'nuls_pct' in trend.columns:\n",
        "        plt.figure()\n",
        "        for k, sub in trend.groupby('type_scrutin') if 'type_scrutin' in trend.columns else [(None, trend)]:\n",
        "            plt.plot(sub['annee'], sub['nuls_pct'], marker='o', label=str(k) if k is not None else None)\n",
        "        plt.title('Nuls (moyenne)'); plt.xlabel('Année'); plt.ylabel('nuls_pct')\n",
        "        if 'type_scrutin' in trend.columns: plt.legend()\n",
        "        plt.show()"
      ],
      "execution_count": null,
      "outputs": []
    },
    {
      "cell_type": "markdown",
      "metadata": {},
      "source": [
        "## 4) Corrélations (indicateurs ↔ résultats)"
      ]
    },
    {
      "cell_type": "code",
      "metadata": {},
      "source": [
        "# Sélection simple : indicateurs + parts de vote si présentes\n",
        "num_cols = [c for c in df.columns if pd.api.types.is_numeric_dtype(df[c])]\n",
        "subset_cols = []\n",
        "for c in ['population','median_income','unemployment_rate','poverty_rate','security_incidents_per_1000',\n",
        "          'turnout_pct','blancs_pct','nuls_pct']:\n",
        "    if c in df.columns: subset_cols.append(c)\n",
        "subset_cols += [c for c in df.columns if c.startswith('voix_pct_')][:8]\n",
        "subset_cols = [c for c in subset_cols if c in num_cols]\n",
        "if subset_cols:\n",
        "    corr = df[subset_cols].corr()\n",
        "    import numpy as np\n",
        "    plt.figure()\n",
        "    plt.imshow(corr.values)\n",
        "    plt.title('Corrélations (sous-ensemble)')\n",
        "    plt.xticks(range(len(subset_cols)), subset_cols, rotation=90)\n",
        "    plt.yticks(range(len(subset_cols)), subset_cols)\n",
        "    for i in range(corr.shape[0]):\n",
        "        for j in range(corr.shape[1]):\n",
        "            val = corr.values[i, j]\n",
        "            plt.text(j, i, f\"{val:.2f}\", ha='center', va='center')\n",
        "    plt.tight_layout(); plt.show()"
      ],
      "execution_count": null,
      "outputs": []
    },
    {
      "cell_type": "markdown",
      "metadata": {},
      "source": [
        "## 5) Importance des variables (Random Forest rapide)"
      ]
    },
    {
      "cell_type": "code",
      "metadata": {},
      "source": [
        "from sklearn.ensemble import RandomForestClassifier\n",
        "from sklearn.preprocessing import OneHotEncoder, StandardScaler\n",
        "from sklearn.compose import ColumnTransformer\n",
        "from sklearn.pipeline import Pipeline\n",
        "from sklearn.model_selection import train_test_split\n",
        "from sklearn.metrics import accuracy_score\n",
        "\n",
        "df2 = df.copy()\n",
        "df2 = df2.dropna(subset=['parti_en_tete']) if 'parti_en_tete' in df2.columns else df2\n",
        "y = df2['parti_en_tete'].astype(str) if 'parti_en_tete' in df2.columns else None\n",
        "categorical = [c for c in ['type_scrutin','tour'] if c in df2.columns]\n",
        "exclude = set(['code_commune_insee','nom_commune','code_epci','date_scrutin','parti_en_tete','winner_prev','estime'])\n",
        "numeric = [c for c in df2.columns if c not in exclude and c not in categorical and pd.api.types.is_numeric_dtype(df2[c])]\n",
        "if y is not None and len(y)>0:\n",
        "    X = df2[numeric + categorical]\n",
        "    pre = ColumnTransformer([\n",
        "        ('num', StandardScaler(with_mean=False), numeric),\n",
        "        ('cat', OneHotEncoder(handle_unknown='ignore'), categorical)\n",
        "    ], remainder='drop')\n",
        "    rf = Pipeline([('prep', pre), ('clf', RandomForestClassifier(n_estimators=300, random_state=42))])\n",
        "    Xtr, Xte, ytr, yte = train_test_split(X, y, test_size=0.25, random_state=42, stratify=y)\n",
        "    rf.fit(Xtr, ytr)\n",
        "    print('Accuracy RF holdout:', accuracy_score(yte, rf.predict(Xte)))\n",
        "else:\n",
        "    print('parti_en_tete indisponible — importance non calculée.')"
      ],
      "execution_count": null,
      "outputs": []
    },
    {
      "cell_type": "markdown",
      "metadata": {},
      "source": [
        "## 6) Idées de cartes (à exécuter si GeoJSON disponible)"
      ]
    },
    {
      "cell_type": "code",
      "metadata": {},
      "source": [
        "# Exemple d'esquisse (nécessite un GeoJSON des communes) :\n",
        "# import json\n",
        "# import matplotlib.pyplot as plt\n",
        "# import shapely.geometry as geom\n",
        "# import shapely.ops as ops\n",
        "# -> Rejoindre le GeoJSON des communes (INSEE) avec df sur code_commune_insee,\n",
        "#    puis colorier par parti_en_tete.\n",
        "print('Ajoutez un GeoJSON des communes pour produire une carte thématique.')"
      ],
      "execution_count": null,
      "outputs": []
    },
    {
      "cell_type": "markdown",
      "metadata": {},
      "source": [
        "## 7) Carte — parti en tête par commune (exemple)\n",
        "Exécuter d'abord : `docker compose run --rm app python src/etl/fetch_geojson.py` pour récupérer le GeoJSON.\n",
        "Ensuite, choisissez une année et un type de scrutin (ex. 2022, présidentielles 1er tour)."
      ]
    },
    {
      "cell_type": "code",
      "metadata": {},
      "execution_count": null,
      "outputs": [],
      "source": [
        "import json\n",
        "import numpy as np\n",
        "import matplotlib.pyplot as plt\n",
        "from matplotlib.patches import Polygon as MplPolygon\n",
        "from matplotlib.collections import PatchCollection\n",
        "from pathlib import Path\n",
        "\n",
        "GEO = Path('data/geo/communes_nantes_metropole.geojson')\n",
        "if not GEO.exists():\n",
        "    raise SystemExit('GeoJSON manquant. Lancez: docker compose run --rm app python src/etl/fetch_geojson.py')\n",
        "\n",
        "with open(GEO, 'r', encoding='utf-8') as f:\n",
        "    gj = json.load(f)\n",
        "\n",
        "# Choix\n",
        "YEAR = int(sorted(df['annee'].dropna().unique())[-1]) if 'annee' in df.columns else 2022\n",
        "SCRUTIN = 'presidentielle'  # adapter au besoin\n",
        "TOUR = 1\n",
        "\n",
        "# Prépare les données (vainqueur par commune)\n",
        "key_cols = [c for c in ['code_commune_insee','annee','type_scrutin','tour','parti_en_tete'] if c in df.columns]\n",
        "subset = df[key_cols].dropna()\n",
        "subset = subset[(subset['annee']==YEAR) & (subset['type_scrutin'].str.contains(SCRUTIN, case=False, na=False))]\n",
        "if 'tour' in subset.columns:\n",
        "    subset = subset[subset['tour']==TOUR]\n",
        "winners = subset.set_index('code_commune_insee')['parti_en_tete'].to_dict()\n",
        "\n",
        "partis = sorted(set(winners.values()))\n",
        "parti_to_id = {p:i for i,p in enumerate(partis)}\n",
        "\n",
        "patches = []\n",
        "vals = []\n",
        "for ft in gj.get('features', []):\n",
        "    props = ft.get('properties', {})\n",
        "    code = str(props.get('code', '')).zfill(5)\n",
        "    geom = ft.get('geometry', {})\n",
        "    if not code or not geom:\n",
        "        continue\n",
        "    polys = []\n",
        "    if geom.get('type') == 'Polygon':\n",
        "        polys = [geom['coordinates']]\n",
        "    elif geom.get('type') == 'MultiPolygon':\n",
        "        polys = geom['coordinates']\n",
        "    pid = parti_to_id.get(winners.get(code, None), None)\n",
        "    for poly in polys:\n",
        "        if not poly:\n",
        "            continue\n",
        "        ring = poly[0]\n",
        "        patches.append(MplPolygon(ring, True))\n",
        "        vals.append(pid if pid is not None else np.nan)\n",
        "\n",
        "fig, ax = plt.subplots(figsize=(8,8))\n",
        "pc = PatchCollection(patches, alpha=0.85)\n",
        "# map numeric ids to colors using default colormap\n",
        "if len(vals):\n",
        "    arr = np.array([v if v==v else -1 for v in vals])\n",
        "    # Normalize to [0,1] ignoring -1\n",
        "    if np.any(arr>=0):\n",
        "        vmax = max(arr[arr>=0]) or 1\n",
        "        colors = np.where(arr>=0, (arr / max(vmax,1)), 0.0)\n",
        "        pc.set_array(colors)\n",
        "ax.add_collection(pc)\n",
        "ax.autoscale_view()\n",
        "ax.set_aspect('equal', 'box')\n",
        "ax.set_title(f'Parti en tête — {YEAR}, {SCRUTIN} T{TOUR}')\n",
        "plt.show()\n"
      ]
    },
    {
      "cell_type": "markdown",
      "metadata": {},
      "source": [
        "---\n### Fin de l’EDA"
      ]
    }
  ],
  "metadata": {
    "kernelspec": {
      "display_name": "Python 3",
      "language": "python",
      "name": "python3"
    },
    "language_info": {
      "name": "python",
      "version": "3.11"
    }
  },
  "nbformat": 4,
  "nbformat_minor": 5
}
{
 "cells": [
  {"cell_type":"markdown","metadata":{},"source":["# QA & EDA starter\n","Ce notebook explore `data/processed_csv/master_ml.csv` une fois l'ETL exécuté."]},
  {"cell_type":"code","execution_count":null,"metadata":{},"outputs":[],"source":["import pandas as pd\n","df = pd.read_csv('data/processed_csv/master_ml.csv')\n","df.head()"]}
 ],
 "metadata":{"kernelspec":{"display_name":"Python 3","language":"python","name":"python3"},"language_info":{"name":"python","version":"3.11"}},
 "nbformat":4,"nbformat_minor":5
}